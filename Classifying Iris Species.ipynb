{
 "cells": [
  {
   "cell_type": "markdown",
   "metadata": {},
   "source": [
    "## Import Libraries"
   ]
  },
  {
   "cell_type": "code",
   "execution_count": 1,
   "metadata": {
    "executionInfo": {
     "elapsed": 1735,
     "status": "ok",
     "timestamp": 1605442285701,
     "user": {
      "displayName": "Mansib Mursalin",
      "photoUrl": "",
      "userId": "13607802869223974896"
     },
     "user_tz": -360
    },
    "id": "9I_Xv-ejKI4m"
   },
   "outputs": [],
   "source": [
    "import pandas as pd\n",
    "import matplotlib\n",
    "import numpy as np\n",
    "import scipy as sp\n",
    "import IPython \n",
    "import sklearn"
   ]
  },
  {
   "cell_type": "markdown",
   "metadata": {
    "executionInfo": {
     "elapsed": 1728,
     "status": "ok",
     "timestamp": 1605442285702,
     "user": {
      "displayName": "Mansib Mursalin",
      "photoUrl": "",
      "userId": "13607802869223974896"
     },
     "user_tz": -360
    },
    "id": "B6FrFxYOzIWG"
   },
   "source": [
    "## Import the Data\n",
    "\n"
   ]
  },
  {
   "cell_type": "code",
   "execution_count": 2,
   "metadata": {
    "executionInfo": {
     "elapsed": 1723,
     "status": "ok",
     "timestamp": 1605442285703,
     "user": {
      "displayName": "Mansib Mursalin",
      "photoUrl": "",
      "userId": "13607802869223974896"
     },
     "user_tz": -360
    },
    "id": "2vzdbaOrKjU3"
   },
   "outputs": [
    {
     "data": {
      "text/plain": [
       "{'data': array([[5.1, 3.5, 1.4, 0.2],\n",
       "        [4.9, 3. , 1.4, 0.2],\n",
       "        [4.7, 3.2, 1.3, 0.2],\n",
       "        [4.6, 3.1, 1.5, 0.2],\n",
       "        [5. , 3.6, 1.4, 0.2],\n",
       "        [5.4, 3.9, 1.7, 0.4],\n",
       "        [4.6, 3.4, 1.4, 0.3],\n",
       "        [5. , 3.4, 1.5, 0.2],\n",
       "        [4.4, 2.9, 1.4, 0.2],\n",
       "        [4.9, 3.1, 1.5, 0.1],\n",
       "        [5.4, 3.7, 1.5, 0.2],\n",
       "        [4.8, 3.4, 1.6, 0.2],\n",
       "        [4.8, 3. , 1.4, 0.1],\n",
       "        [4.3, 3. , 1.1, 0.1],\n",
       "        [5.8, 4. , 1.2, 0.2],\n",
       "        [5.7, 4.4, 1.5, 0.4],\n",
       "        [5.4, 3.9, 1.3, 0.4],\n",
       "        [5.1, 3.5, 1.4, 0.3],\n",
       "        [5.7, 3.8, 1.7, 0.3],\n",
       "        [5.1, 3.8, 1.5, 0.3],\n",
       "        [5.4, 3.4, 1.7, 0.2],\n",
       "        [5.1, 3.7, 1.5, 0.4],\n",
       "        [4.6, 3.6, 1. , 0.2],\n",
       "        [5.1, 3.3, 1.7, 0.5],\n",
       "        [4.8, 3.4, 1.9, 0.2],\n",
       "        [5. , 3. , 1.6, 0.2],\n",
       "        [5. , 3.4, 1.6, 0.4],\n",
       "        [5.2, 3.5, 1.5, 0.2],\n",
       "        [5.2, 3.4, 1.4, 0.2],\n",
       "        [4.7, 3.2, 1.6, 0.2],\n",
       "        [4.8, 3.1, 1.6, 0.2],\n",
       "        [5.4, 3.4, 1.5, 0.4],\n",
       "        [5.2, 4.1, 1.5, 0.1],\n",
       "        [5.5, 4.2, 1.4, 0.2],\n",
       "        [4.9, 3.1, 1.5, 0.2],\n",
       "        [5. , 3.2, 1.2, 0.2],\n",
       "        [5.5, 3.5, 1.3, 0.2],\n",
       "        [4.9, 3.6, 1.4, 0.1],\n",
       "        [4.4, 3. , 1.3, 0.2],\n",
       "        [5.1, 3.4, 1.5, 0.2],\n",
       "        [5. , 3.5, 1.3, 0.3],\n",
       "        [4.5, 2.3, 1.3, 0.3],\n",
       "        [4.4, 3.2, 1.3, 0.2],\n",
       "        [5. , 3.5, 1.6, 0.6],\n",
       "        [5.1, 3.8, 1.9, 0.4],\n",
       "        [4.8, 3. , 1.4, 0.3],\n",
       "        [5.1, 3.8, 1.6, 0.2],\n",
       "        [4.6, 3.2, 1.4, 0.2],\n",
       "        [5.3, 3.7, 1.5, 0.2],\n",
       "        [5. , 3.3, 1.4, 0.2],\n",
       "        [7. , 3.2, 4.7, 1.4],\n",
       "        [6.4, 3.2, 4.5, 1.5],\n",
       "        [6.9, 3.1, 4.9, 1.5],\n",
       "        [5.5, 2.3, 4. , 1.3],\n",
       "        [6.5, 2.8, 4.6, 1.5],\n",
       "        [5.7, 2.8, 4.5, 1.3],\n",
       "        [6.3, 3.3, 4.7, 1.6],\n",
       "        [4.9, 2.4, 3.3, 1. ],\n",
       "        [6.6, 2.9, 4.6, 1.3],\n",
       "        [5.2, 2.7, 3.9, 1.4],\n",
       "        [5. , 2. , 3.5, 1. ],\n",
       "        [5.9, 3. , 4.2, 1.5],\n",
       "        [6. , 2.2, 4. , 1. ],\n",
       "        [6.1, 2.9, 4.7, 1.4],\n",
       "        [5.6, 2.9, 3.6, 1.3],\n",
       "        [6.7, 3.1, 4.4, 1.4],\n",
       "        [5.6, 3. , 4.5, 1.5],\n",
       "        [5.8, 2.7, 4.1, 1. ],\n",
       "        [6.2, 2.2, 4.5, 1.5],\n",
       "        [5.6, 2.5, 3.9, 1.1],\n",
       "        [5.9, 3.2, 4.8, 1.8],\n",
       "        [6.1, 2.8, 4. , 1.3],\n",
       "        [6.3, 2.5, 4.9, 1.5],\n",
       "        [6.1, 2.8, 4.7, 1.2],\n",
       "        [6.4, 2.9, 4.3, 1.3],\n",
       "        [6.6, 3. , 4.4, 1.4],\n",
       "        [6.8, 2.8, 4.8, 1.4],\n",
       "        [6.7, 3. , 5. , 1.7],\n",
       "        [6. , 2.9, 4.5, 1.5],\n",
       "        [5.7, 2.6, 3.5, 1. ],\n",
       "        [5.5, 2.4, 3.8, 1.1],\n",
       "        [5.5, 2.4, 3.7, 1. ],\n",
       "        [5.8, 2.7, 3.9, 1.2],\n",
       "        [6. , 2.7, 5.1, 1.6],\n",
       "        [5.4, 3. , 4.5, 1.5],\n",
       "        [6. , 3.4, 4.5, 1.6],\n",
       "        [6.7, 3.1, 4.7, 1.5],\n",
       "        [6.3, 2.3, 4.4, 1.3],\n",
       "        [5.6, 3. , 4.1, 1.3],\n",
       "        [5.5, 2.5, 4. , 1.3],\n",
       "        [5.5, 2.6, 4.4, 1.2],\n",
       "        [6.1, 3. , 4.6, 1.4],\n",
       "        [5.8, 2.6, 4. , 1.2],\n",
       "        [5. , 2.3, 3.3, 1. ],\n",
       "        [5.6, 2.7, 4.2, 1.3],\n",
       "        [5.7, 3. , 4.2, 1.2],\n",
       "        [5.7, 2.9, 4.2, 1.3],\n",
       "        [6.2, 2.9, 4.3, 1.3],\n",
       "        [5.1, 2.5, 3. , 1.1],\n",
       "        [5.7, 2.8, 4.1, 1.3],\n",
       "        [6.3, 3.3, 6. , 2.5],\n",
       "        [5.8, 2.7, 5.1, 1.9],\n",
       "        [7.1, 3. , 5.9, 2.1],\n",
       "        [6.3, 2.9, 5.6, 1.8],\n",
       "        [6.5, 3. , 5.8, 2.2],\n",
       "        [7.6, 3. , 6.6, 2.1],\n",
       "        [4.9, 2.5, 4.5, 1.7],\n",
       "        [7.3, 2.9, 6.3, 1.8],\n",
       "        [6.7, 2.5, 5.8, 1.8],\n",
       "        [7.2, 3.6, 6.1, 2.5],\n",
       "        [6.5, 3.2, 5.1, 2. ],\n",
       "        [6.4, 2.7, 5.3, 1.9],\n",
       "        [6.8, 3. , 5.5, 2.1],\n",
       "        [5.7, 2.5, 5. , 2. ],\n",
       "        [5.8, 2.8, 5.1, 2.4],\n",
       "        [6.4, 3.2, 5.3, 2.3],\n",
       "        [6.5, 3. , 5.5, 1.8],\n",
       "        [7.7, 3.8, 6.7, 2.2],\n",
       "        [7.7, 2.6, 6.9, 2.3],\n",
       "        [6. , 2.2, 5. , 1.5],\n",
       "        [6.9, 3.2, 5.7, 2.3],\n",
       "        [5.6, 2.8, 4.9, 2. ],\n",
       "        [7.7, 2.8, 6.7, 2. ],\n",
       "        [6.3, 2.7, 4.9, 1.8],\n",
       "        [6.7, 3.3, 5.7, 2.1],\n",
       "        [7.2, 3.2, 6. , 1.8],\n",
       "        [6.2, 2.8, 4.8, 1.8],\n",
       "        [6.1, 3. , 4.9, 1.8],\n",
       "        [6.4, 2.8, 5.6, 2.1],\n",
       "        [7.2, 3. , 5.8, 1.6],\n",
       "        [7.4, 2.8, 6.1, 1.9],\n",
       "        [7.9, 3.8, 6.4, 2. ],\n",
       "        [6.4, 2.8, 5.6, 2.2],\n",
       "        [6.3, 2.8, 5.1, 1.5],\n",
       "        [6.1, 2.6, 5.6, 1.4],\n",
       "        [7.7, 3. , 6.1, 2.3],\n",
       "        [6.3, 3.4, 5.6, 2.4],\n",
       "        [6.4, 3.1, 5.5, 1.8],\n",
       "        [6. , 3. , 4.8, 1.8],\n",
       "        [6.9, 3.1, 5.4, 2.1],\n",
       "        [6.7, 3.1, 5.6, 2.4],\n",
       "        [6.9, 3.1, 5.1, 2.3],\n",
       "        [5.8, 2.7, 5.1, 1.9],\n",
       "        [6.8, 3.2, 5.9, 2.3],\n",
       "        [6.7, 3.3, 5.7, 2.5],\n",
       "        [6.7, 3. , 5.2, 2.3],\n",
       "        [6.3, 2.5, 5. , 1.9],\n",
       "        [6.5, 3. , 5.2, 2. ],\n",
       "        [6.2, 3.4, 5.4, 2.3],\n",
       "        [5.9, 3. , 5.1, 1.8]]),\n",
       " 'target': array([0, 0, 0, 0, 0, 0, 0, 0, 0, 0, 0, 0, 0, 0, 0, 0, 0, 0, 0, 0, 0, 0,\n",
       "        0, 0, 0, 0, 0, 0, 0, 0, 0, 0, 0, 0, 0, 0, 0, 0, 0, 0, 0, 0, 0, 0,\n",
       "        0, 0, 0, 0, 0, 0, 1, 1, 1, 1, 1, 1, 1, 1, 1, 1, 1, 1, 1, 1, 1, 1,\n",
       "        1, 1, 1, 1, 1, 1, 1, 1, 1, 1, 1, 1, 1, 1, 1, 1, 1, 1, 1, 1, 1, 1,\n",
       "        1, 1, 1, 1, 1, 1, 1, 1, 1, 1, 1, 1, 2, 2, 2, 2, 2, 2, 2, 2, 2, 2,\n",
       "        2, 2, 2, 2, 2, 2, 2, 2, 2, 2, 2, 2, 2, 2, 2, 2, 2, 2, 2, 2, 2, 2,\n",
       "        2, 2, 2, 2, 2, 2, 2, 2, 2, 2, 2, 2, 2, 2, 2, 2, 2, 2]),\n",
       " 'frame': None,\n",
       " 'target_names': array(['setosa', 'versicolor', 'virginica'], dtype='<U10'),\n",
       " 'DESCR': '.. _iris_dataset:\\n\\nIris plants dataset\\n--------------------\\n\\n**Data Set Characteristics:**\\n\\n    :Number of Instances: 150 (50 in each of three classes)\\n    :Number of Attributes: 4 numeric, predictive attributes and the class\\n    :Attribute Information:\\n        - sepal length in cm\\n        - sepal width in cm\\n        - petal length in cm\\n        - petal width in cm\\n        - class:\\n                - Iris-Setosa\\n                - Iris-Versicolour\\n                - Iris-Virginica\\n                \\n    :Summary Statistics:\\n\\n    ============== ==== ==== ======= ===== ====================\\n                    Min  Max   Mean    SD   Class Correlation\\n    ============== ==== ==== ======= ===== ====================\\n    sepal length:   4.3  7.9   5.84   0.83    0.7826\\n    sepal width:    2.0  4.4   3.05   0.43   -0.4194\\n    petal length:   1.0  6.9   3.76   1.76    0.9490  (high!)\\n    petal width:    0.1  2.5   1.20   0.76    0.9565  (high!)\\n    ============== ==== ==== ======= ===== ====================\\n\\n    :Missing Attribute Values: None\\n    :Class Distribution: 33.3% for each of 3 classes.\\n    :Creator: R.A. Fisher\\n    :Donor: Michael Marshall (MARSHALL%PLU@io.arc.nasa.gov)\\n    :Date: July, 1988\\n\\nThe famous Iris database, first used by Sir R.A. Fisher. The dataset is taken\\nfrom Fisher\\'s paper. Note that it\\'s the same as in R, but not as in the UCI\\nMachine Learning Repository, which has two wrong data points.\\n\\nThis is perhaps the best known database to be found in the\\npattern recognition literature.  Fisher\\'s paper is a classic in the field and\\nis referenced frequently to this day.  (See Duda & Hart, for example.)  The\\ndata set contains 3 classes of 50 instances each, where each class refers to a\\ntype of iris plant.  One class is linearly separable from the other 2; the\\nlatter are NOT linearly separable from each other.\\n\\n.. topic:: References\\n\\n   - Fisher, R.A. \"The use of multiple measurements in taxonomic problems\"\\n     Annual Eugenics, 7, Part II, 179-188 (1936); also in \"Contributions to\\n     Mathematical Statistics\" (John Wiley, NY, 1950).\\n   - Duda, R.O., & Hart, P.E. (1973) Pattern Classification and Scene Analysis.\\n     (Q327.D83) John Wiley & Sons.  ISBN 0-471-22361-1.  See page 218.\\n   - Dasarathy, B.V. (1980) \"Nosing Around the Neighborhood: A New System\\n     Structure and Classification Rule for Recognition in Partially Exposed\\n     Environments\".  IEEE Transactions on Pattern Analysis and Machine\\n     Intelligence, Vol. PAMI-2, No. 1, 67-71.\\n   - Gates, G.W. (1972) \"The Reduced Nearest Neighbor Rule\".  IEEE Transactions\\n     on Information Theory, May 1972, 431-433.\\n   - See also: 1988 MLC Proceedings, 54-64.  Cheeseman et al\"s AUTOCLASS II\\n     conceptual clustering system finds 3 classes in the data.\\n   - Many, many more ...',\n",
       " 'feature_names': ['sepal length (cm)',\n",
       "  'sepal width (cm)',\n",
       "  'petal length (cm)',\n",
       "  'petal width (cm)'],\n",
       " 'filename': 'E:\\\\Anaconda\\\\lib\\\\site-packages\\\\sklearn\\\\datasets\\\\data\\\\iris.csv'}"
      ]
     },
     "execution_count": 2,
     "metadata": {},
     "output_type": "execute_result"
    }
   ],
   "source": [
    "from sklearn.datasets import load_iris\n",
    "iris_dataset = load_iris()\n",
    "iris_dataset"
   ]
  },
  {
   "cell_type": "code",
   "execution_count": 3,
   "metadata": {
    "colab": {
     "base_uri": "https://localhost:8080/"
    },
    "executionInfo": {
     "elapsed": 2337,
     "status": "ok",
     "timestamp": 1605442286319,
     "user": {
      "displayName": "Mansib Mursalin",
      "photoUrl": "",
      "userId": "13607802869223974896"
     },
     "user_tz": -360
    },
    "id": "GJJAAKy0KvQW",
    "outputId": "9fe6bee9-29e1-4ceb-e21e-f663198434fe"
   },
   "outputs": [
    {
     "name": "stdout",
     "output_type": "stream",
     "text": [
      "Keys of iris_dataset: \n",
      "dict_keys(['data', 'target', 'frame', 'target_names', 'DESCR', 'feature_names', 'filename'])\n"
     ]
    }
   ],
   "source": [
    "print(\"Keys of iris_dataset: \\n{}\".format(iris_dataset.keys()))"
   ]
  },
  {
   "cell_type": "code",
   "execution_count": 4,
   "metadata": {
    "colab": {
     "base_uri": "https://localhost:8080/"
    },
    "executionInfo": {
     "elapsed": 2335,
     "status": "ok",
     "timestamp": 1605442286319,
     "user": {
      "displayName": "Mansib Mursalin",
      "photoUrl": "",
      "userId": "13607802869223974896"
     },
     "user_tz": -360
    },
    "id": "26I7_EVbK2a3",
    "outputId": "d092ea84-3c56-4656-d42f-b7e1b01bcdea"
   },
   "outputs": [
    {
     "name": "stdout",
     "output_type": "stream",
     "text": [
      ".. _iris_dataset:\n",
      "\n",
      "Iris plants dataset\n",
      "--------------------\n",
      "\n",
      "**Data Set Characteristics:**\n",
      "\n",
      "    :Number of Instances: 150 (50 in each of three classes)\n",
      "    :Number of Attributes: 4 numeric, predictive attributes and the class\n",
      "    :Attribute Information:\n",
      "        - sepal length in cm\n",
      "        - sepal width in cm\n",
      "        - petal length in cm\n",
      "        - petal width in cm\n",
      "        - class:\n",
      "                - Iris-Setosa\n",
      "                - Iris-Versicolour\n",
      "                - Iris-Virginica\n",
      "                \n",
      "    :Summary Statistics:\n",
      "\n",
      "    ============== ==== ==== ======= ===== ====================\n",
      "                    Min  Max   Mean    SD   Class Correlation\n",
      "    ============== ==== ==== ======= ===== ====================\n",
      "    sepal length:   4.3  7.9   5.84   0.83    0.7826\n",
      "    sepal width:    2.0  4.4   3.05   0.43   -0.4194\n",
      "    petal length:   1.0  6.9   3.76   1.76    0.9490  (high!)\n",
      "    petal width:    0.1  2.5   1.20   0.76    0.9565  (high!)\n",
      "    ============== ==== ==== ======= ===== ====================\n",
      "\n",
      "    :Missing Attribute Values: None\n",
      "    :Class Distribution: 33.3% for each of 3 classes.\n",
      "    :Creator: R.A. Fisher\n",
      "    :Donor: Michael Marshall (MARSHALL%PLU@io.arc.nasa.gov)\n",
      "    :Date: July, 1988\n",
      "\n",
      "The famous Iris database, first used by Sir R.A. Fisher. The dataset is taken\n",
      "from Fisher's paper. Note that it's the same as in R, but not as in the UCI\n",
      "Machine Learning Repository, which has two wrong data points.\n",
      "\n",
      "This is perhaps the best known database to be found in the\n",
      "pattern recognition literature.  Fisher's paper is a classic in the field and\n",
      "is referenced frequently to this day.  (See Duda & Hart, for example.)  The\n",
      "data set contains 3 classes of 50 instances each, where each class refers to a\n",
      "type of iris plant.  One class is linearly separable from the other 2; the\n",
      "latter are NOT linearly separable from each other.\n",
      "\n",
      ".. topic:: References\n",
      "\n",
      "   - Fisher, R.A. \"The use of multiple measurements in taxonomic problems\"\n",
      "     Annual Eugenics, 7, Part II, 179-188 (1936); also in \"Contributions to\n",
      "     Mathematical Statistics\" (John Wiley, NY, 1950).\n",
      "   - Duda, R.O., & Hart, P.E. (1973) Pattern Classification and Scene Analysis.\n",
      "     (Q327.D83) John Wiley & Sons.  ISBN 0-471-22361-1.  See page 218.\n",
      "   - Dasarathy, B.V. (1980) \"Nosing Around the Neighborhood: A New System\n",
      "     Structure and Classification Rule for Recognition in Partially Exposed\n",
      "     Environments\".  IEEE Transactions on Pattern Analysis and Machine\n",
      "     Intelligence, Vol. PAMI-2, No. 1, 67-71.\n",
      "   - Gates, G.W. (1972) \"The Reduced Nearest Neighbor Rule\".  IEEE Transactions\n",
      "     on Information Theory, May 1972, 431-433.\n",
      "   - See also: 1988 MLC Proceedings, 54-64.  Cheeseman et al\"s AUTOCLASS II\n",
      "     conceptual clustering system finds 3 classes in the data.\n",
      "   - Many, many more ...\n"
     ]
    }
   ],
   "source": [
    "print(iris_dataset['DESCR'])"
   ]
  },
  {
   "cell_type": "code",
   "execution_count": 5,
   "metadata": {
    "colab": {
     "base_uri": "https://localhost:8080/"
    },
    "executionInfo": {
     "elapsed": 2330,
     "status": "ok",
     "timestamp": 1605442286320,
     "user": {
      "displayName": "Mansib Mursalin",
      "photoUrl": "",
      "userId": "13607802869223974896"
     },
     "user_tz": -360
    },
    "id": "nEB7qUewLjpF",
    "outputId": "cd8eb541-75c8-438d-8046-ac978a7c7821"
   },
   "outputs": [
    {
     "name": "stdout",
     "output_type": "stream",
     "text": [
      "['setosa' 'versicolor' 'virginica']\n"
     ]
    }
   ],
   "source": [
    "print(iris_dataset['target_names']) # Our classes"
   ]
  },
  {
   "cell_type": "code",
   "execution_count": 6,
   "metadata": {
    "colab": {
     "base_uri": "https://localhost:8080/"
    },
    "executionInfo": {
     "elapsed": 2323,
     "status": "ok",
     "timestamp": 1605442286320,
     "user": {
      "displayName": "Mansib Mursalin",
      "photoUrl": "",
      "userId": "13607802869223974896"
     },
     "user_tz": -360
    },
    "id": "K7X1Tf8GLsOJ",
    "outputId": "f8c19cb8-2207-400e-c78d-a6ce2a042feb"
   },
   "outputs": [
    {
     "name": "stdout",
     "output_type": "stream",
     "text": [
      "['sepal length (cm)', 'sepal width (cm)', 'petal length (cm)', 'petal width (cm)']\n"
     ]
    }
   ],
   "source": [
    "print(iris_dataset['feature_names']) # Our input data features"
   ]
  },
  {
   "cell_type": "code",
   "execution_count": 7,
   "metadata": {
    "colab": {
     "base_uri": "https://localhost:8080/"
    },
    "executionInfo": {
     "elapsed": 2317,
     "status": "ok",
     "timestamp": 1605442286321,
     "user": {
      "displayName": "Mansib Mursalin",
      "photoUrl": "",
      "userId": "13607802869223974896"
     },
     "user_tz": -360
    },
    "id": "fqtJfSpcL0K8",
    "outputId": "8a3a7df9-4daf-4bd4-e835-1f64cc780e9d"
   },
   "outputs": [
    {
     "name": "stdout",
     "output_type": "stream",
     "text": [
      "<class 'numpy.ndarray'>\n"
     ]
    }
   ],
   "source": [
    "print(type(iris_dataset['data'])) # Our data in the form of a numpy array"
   ]
  },
  {
   "cell_type": "code",
   "execution_count": 8,
   "metadata": {
    "colab": {
     "base_uri": "https://localhost:8080/"
    },
    "executionInfo": {
     "elapsed": 2310,
     "status": "ok",
     "timestamp": 1605442286321,
     "user": {
      "displayName": "Mansib Mursalin",
      "photoUrl": "",
      "userId": "13607802869223974896"
     },
     "user_tz": -360
    },
    "id": "DSL4kdk2MEdA",
    "outputId": "6ca2102c-f8ae-41ac-bc13-9f97ba52cf7e"
   },
   "outputs": [
    {
     "name": "stdout",
     "output_type": "stream",
     "text": [
      "(150, 4)\n"
     ]
    }
   ],
   "source": [
    "print(iris_dataset['data'].shape) #number flowers and number of charactersitics"
   ]
  },
  {
   "cell_type": "code",
   "execution_count": 9,
   "metadata": {
    "colab": {
     "base_uri": "https://localhost:8080/"
    },
    "executionInfo": {
     "elapsed": 2305,
     "status": "ok",
     "timestamp": 1605442286322,
     "user": {
      "displayName": "Mansib Mursalin",
      "photoUrl": "",
      "userId": "13607802869223974896"
     },
     "user_tz": -360
    },
    "id": "tlEFFxwqMa84",
    "outputId": "7ded94aa-ff9e-47eb-9c81-de74fae589f2"
   },
   "outputs": [
    {
     "name": "stdout",
     "output_type": "stream",
     "text": [
      "[[5.1 3.5 1.4 0.2]\n",
      " [4.9 3.  1.4 0.2]\n",
      " [4.7 3.2 1.3 0.2]\n",
      " [4.6 3.1 1.5 0.2]\n",
      " [5.  3.6 1.4 0.2]]\n"
     ]
    }
   ],
   "source": [
    "print(iris_dataset['data'][:5])"
   ]
  },
  {
   "cell_type": "code",
   "execution_count": 10,
   "metadata": {
    "colab": {
     "base_uri": "https://localhost:8080/"
    },
    "executionInfo": {
     "elapsed": 2298,
     "status": "ok",
     "timestamp": 1605442286322,
     "user": {
      "displayName": "Mansib Mursalin",
      "photoUrl": "",
      "userId": "13607802869223974896"
     },
     "user_tz": -360
    },
    "id": "gHzfrrTRModY",
    "outputId": "d2630943-3c4b-446a-e0b0-6990c8ff56e9"
   },
   "outputs": [
    {
     "name": "stdout",
     "output_type": "stream",
     "text": [
      "<class 'numpy.ndarray'>\n"
     ]
    }
   ],
   "source": [
    "print(type(iris_dataset['target']))"
   ]
  },
  {
   "cell_type": "code",
   "execution_count": 11,
   "metadata": {
    "colab": {
     "base_uri": "https://localhost:8080/"
    },
    "executionInfo": {
     "elapsed": 2290,
     "status": "ok",
     "timestamp": 1605442286322,
     "user": {
      "displayName": "Mansib Mursalin",
      "photoUrl": "",
      "userId": "13607802869223974896"
     },
     "user_tz": -360
    },
    "id": "wN71CyAjM2hd",
    "outputId": "c45a721d-92f0-441c-e9f4-ea5fca63743d"
   },
   "outputs": [
    {
     "name": "stdout",
     "output_type": "stream",
     "text": [
      "(150,)\n"
     ]
    }
   ],
   "source": [
    "print(iris_dataset['target'].shape)"
   ]
  },
  {
   "cell_type": "code",
   "execution_count": 12,
   "metadata": {
    "colab": {
     "base_uri": "https://localhost:8080/"
    },
    "executionInfo": {
     "elapsed": 2285,
     "status": "ok",
     "timestamp": 1605442286323,
     "user": {
      "displayName": "Mansib Mursalin",
      "photoUrl": "",
      "userId": "13607802869223974896"
     },
     "user_tz": -360
    },
    "id": "x0e1ud6YNAo1",
    "outputId": "597c4f4a-8ea0-4b88-df21-f5c8e8ac704b"
   },
   "outputs": [
    {
     "name": "stdout",
     "output_type": "stream",
     "text": [
      "[0 0 0 0 0 0 0 0 0 0 0 0 0 0 0 0 0 0 0 0 0 0 0 0 0 0 0 0 0 0 0 0 0 0 0 0 0\n",
      " 0 0 0 0 0 0 0 0 0 0 0 0 0 1 1 1 1 1 1 1 1 1 1 1 1 1 1 1 1 1 1 1 1 1 1 1 1\n",
      " 1 1 1 1 1 1 1 1 1 1 1 1 1 1 1 1 1 1 1 1 1 1 1 1 1 1 2 2 2 2 2 2 2 2 2 2 2\n",
      " 2 2 2 2 2 2 2 2 2 2 2 2 2 2 2 2 2 2 2 2 2 2 2 2 2 2 2 2 2 2 2 2 2 2 2 2 2\n",
      " 2 2]\n"
     ]
    }
   ],
   "source": [
    "print(iris_dataset['target']) #0 means Setosa, 1 means Versicolor, 2 means Virginica"
   ]
  },
  {
   "cell_type": "markdown",
   "metadata": {},
   "source": [
    "## Processing the Data"
   ]
  },
  {
   "cell_type": "code",
   "execution_count": 13,
   "metadata": {
    "executionInfo": {
     "elapsed": 2277,
     "status": "ok",
     "timestamp": 1605442286324,
     "user": {
      "displayName": "Mansib Mursalin",
      "photoUrl": "",
      "userId": "13607802869223974896"
     },
     "user_tz": -360
    },
    "id": "e5Pg8TmlNFt-"
   },
   "outputs": [],
   "source": [
    "from sklearn.model_selection import train_test_split\n",
    "X_train, X_test, y_train, y_test = train_test_split(iris_dataset['data'], iris_dataset['target'], random_state = 0)"
   ]
  },
  {
   "cell_type": "code",
   "execution_count": 14,
   "metadata": {
    "colab": {
     "base_uri": "https://localhost:8080/"
    },
    "executionInfo": {
     "elapsed": 2270,
     "status": "ok",
     "timestamp": 1605442286324,
     "user": {
      "displayName": "Mansib Mursalin",
      "photoUrl": "",
      "userId": "13607802869223974896"
     },
     "user_tz": -360
    },
    "id": "SHaCuxosOrGv",
    "outputId": "84591e37-3cc1-41ed-92b2-fe3b2c862ca5"
   },
   "outputs": [
    {
     "name": "stdout",
     "output_type": "stream",
     "text": [
      "(112, 4)\n"
     ]
    }
   ],
   "source": [
    "print(X_train.shape) # 74.667% of dataset"
   ]
  },
  {
   "cell_type": "code",
   "execution_count": 15,
   "metadata": {
    "colab": {
     "base_uri": "https://localhost:8080/"
    },
    "executionInfo": {
     "elapsed": 2262,
     "status": "ok",
     "timestamp": 1605442286325,
     "user": {
      "displayName": "Mansib Mursalin",
      "photoUrl": "",
      "userId": "13607802869223974896"
     },
     "user_tz": -360
    },
    "id": "Kv8KgwlvOxhx",
    "outputId": "cd19d304-2a22-4cc4-8ad8-0e915618816b"
   },
   "outputs": [
    {
     "name": "stdout",
     "output_type": "stream",
     "text": [
      "(38, 4)\n"
     ]
    }
   ],
   "source": [
    "print(X_test.shape)"
   ]
  },
  {
   "cell_type": "code",
   "execution_count": 16,
   "metadata": {
    "colab": {
     "base_uri": "https://localhost:8080/"
    },
    "executionInfo": {
     "elapsed": 2256,
     "status": "ok",
     "timestamp": 1605442286326,
     "user": {
      "displayName": "Mansib Mursalin",
      "photoUrl": "",
      "userId": "13607802869223974896"
     },
     "user_tz": -360
    },
    "id": "-V9fDmBuO3fb",
    "outputId": "0312c374-5189-43f8-d270-f947895b26ee"
   },
   "outputs": [
    {
     "name": "stdout",
     "output_type": "stream",
     "text": [
      "(112,)\n"
     ]
    }
   ],
   "source": [
    "print(y_train.shape) "
   ]
  },
  {
   "cell_type": "code",
   "execution_count": 17,
   "metadata": {
    "colab": {
     "base_uri": "https://localhost:8080/"
    },
    "executionInfo": {
     "elapsed": 2250,
     "status": "ok",
     "timestamp": 1605442286327,
     "user": {
      "displayName": "Mansib Mursalin",
      "photoUrl": "",
      "userId": "13607802869223974896"
     },
     "user_tz": -360
    },
    "id": "b8hMOSUtO_PJ",
    "outputId": "f572f65f-14db-4c28-9d36-d8ab82138e02"
   },
   "outputs": [
    {
     "name": "stdout",
     "output_type": "stream",
     "text": [
      "(38,)\n"
     ]
    }
   ],
   "source": [
    "print(y_test.shape)"
   ]
  },
  {
   "cell_type": "markdown",
   "metadata": {},
   "source": [
    "## Build the Model - K-Nearest Neighbours"
   ]
  },
  {
   "cell_type": "code",
   "execution_count": 18,
   "metadata": {
    "executionInfo": {
     "elapsed": 10261,
     "status": "ok",
     "timestamp": 1605442294366,
     "user": {
      "displayName": "Mansib Mursalin",
      "photoUrl": "",
      "userId": "13607802869223974896"
     },
     "user_tz": -360
    },
    "id": "E13SOTVuahky"
   },
   "outputs": [
    {
     "name": "stdout",
     "output_type": "stream",
     "text": [
      "Epoch 1/200\n",
      "4/4 [==============================] - 0s 869us/step - loss: 1.2937 - accuracy: 0.4375\n",
      "Epoch 2/200\n",
      "4/4 [==============================] - 0s 992us/step - loss: 1.0005 - accuracy: 0.3661\n",
      "Epoch 3/200\n",
      "4/4 [==============================] - 0s 1ms/step - loss: 0.8696 - accuracy: 0.5268\n",
      "Epoch 4/200\n",
      "4/4 [==============================] - 0s 6ms/step - loss: 0.7817 - accuracy: 0.5893\n",
      "Epoch 5/200\n",
      "4/4 [==============================] - 0s 1ms/step - loss: 0.7085 - accuracy: 0.7500\n",
      "Epoch 6/200\n",
      "4/4 [==============================] - 0s 991us/step - loss: 0.6285 - accuracy: 0.8036\n",
      "Epoch 7/200\n",
      "4/4 [==============================] - 0s 868us/step - loss: 0.5648 - accuracy: 0.9554\n",
      "Epoch 8/200\n",
      "4/4 [==============================] - 0s 992us/step - loss: 0.5029 - accuracy: 0.8036\n",
      "Epoch 9/200\n",
      "4/4 [==============================] - 0s 868us/step - loss: 0.4074 - accuracy: 0.9196\n",
      "Epoch 10/200\n",
      "4/4 [==============================] - 0s 1ms/step - loss: 0.3553 - accuracy: 0.9821\n",
      "Epoch 11/200\n",
      "4/4 [==============================] - 0s 868us/step - loss: 0.3010 - accuracy: 0.9375\n",
      "Epoch 12/200\n",
      "4/4 [==============================] - 0s 1ms/step - loss: 0.2686 - accuracy: 0.9554\n",
      "Epoch 13/200\n",
      "4/4 [==============================] - 0s 868us/step - loss: 0.2227 - accuracy: 0.9732\n",
      "Epoch 14/200\n",
      "4/4 [==============================] - 0s 1ms/step - loss: 0.2055 - accuracy: 0.9554\n",
      "Epoch 15/200\n",
      "4/4 [==============================] - 0s 868us/step - loss: 0.1946 - accuracy: 0.9732\n",
      "Epoch 16/200\n",
      "4/4 [==============================] - 0s 1ms/step - loss: 0.1597 - accuracy: 0.9732\n",
      "Epoch 17/200\n",
      "4/4 [==============================] - 0s 868us/step - loss: 0.1447 - accuracy: 0.9732\n",
      "Epoch 18/200\n",
      "4/4 [==============================] - 0s 1ms/step - loss: 0.1294 - accuracy: 0.9732\n",
      "Epoch 19/200\n",
      "4/4 [==============================] - 0s 868us/step - loss: 0.1186 - accuracy: 0.9732\n",
      "Epoch 20/200\n",
      "4/4 [==============================] - 0s 1ms/step - loss: 0.1109 - accuracy: 0.9732\n",
      "Epoch 21/200\n",
      "4/4 [==============================] - 0s 992us/step - loss: 0.1054 - accuracy: 0.9821\n",
      "Epoch 22/200\n",
      "4/4 [==============================] - 0s 992us/step - loss: 0.0983 - accuracy: 0.9732\n",
      "Epoch 23/200\n",
      "4/4 [==============================] - 0s 868us/step - loss: 0.0954 - accuracy: 0.9821\n",
      "Epoch 24/200\n",
      "4/4 [==============================] - 0s 1ms/step - loss: 0.0860 - accuracy: 0.9732\n",
      "Epoch 25/200\n",
      "4/4 [==============================] - 0s 868us/step - loss: 0.0977 - accuracy: 0.9643\n",
      "Epoch 26/200\n",
      "4/4 [==============================] - 0s 1ms/step - loss: 0.1154 - accuracy: 0.9643\n",
      "Epoch 27/200\n",
      "4/4 [==============================] - 0s 992us/step - loss: 0.1000 - accuracy: 0.9643\n",
      "Epoch 28/200\n",
      "4/4 [==============================] - 0s 1ms/step - loss: 0.0878 - accuracy: 0.9732\n",
      "Epoch 29/200\n",
      "4/4 [==============================] - 0s 1ms/step - loss: 0.0689 - accuracy: 0.9732\n",
      "Epoch 30/200\n",
      "4/4 [==============================] - 0s 1ms/step - loss: 0.1013 - accuracy: 0.9464\n",
      "Epoch 31/200\n",
      "4/4 [==============================] - 0s 1ms/step - loss: 0.1004 - accuracy: 0.9732\n",
      "Epoch 32/200\n",
      "4/4 [==============================] - 0s 2ms/step - loss: 0.0571 - accuracy: 0.9732\n",
      "Epoch 33/200\n",
      "4/4 [==============================] - 0s 868us/step - loss: 0.0911 - accuracy: 0.9643\n",
      "Epoch 34/200\n",
      "4/4 [==============================] - 0s 1ms/step - loss: 0.0739 - accuracy: 0.9643\n",
      "Epoch 35/200\n",
      "4/4 [==============================] - 0s 992us/step - loss: 0.0604 - accuracy: 0.9821\n",
      "Epoch 36/200\n",
      "4/4 [==============================] - 0s 1ms/step - loss: 0.0610 - accuracy: 0.9821\n",
      "Epoch 37/200\n",
      "4/4 [==============================] - 0s 868us/step - loss: 0.0550 - accuracy: 0.9821\n",
      "Epoch 38/200\n",
      "4/4 [==============================] - 0s 1ms/step - loss: 0.0586 - accuracy: 0.9821\n",
      "Epoch 39/200\n",
      "4/4 [==============================] - 0s 868us/step - loss: 0.0569 - accuracy: 0.9821\n",
      "Epoch 40/200\n",
      "4/4 [==============================] - 0s 1ms/step - loss: 0.0542 - accuracy: 0.9911\n",
      "Epoch 41/200\n",
      "4/4 [==============================] - 0s 868us/step - loss: 0.0599 - accuracy: 0.9821\n",
      "Epoch 42/200\n",
      "4/4 [==============================] - 0s 1ms/step - loss: 0.0495 - accuracy: 0.9821\n",
      "Epoch 43/200\n",
      "4/4 [==============================] - 0s 744us/step - loss: 0.0657 - accuracy: 0.9821\n",
      "Epoch 44/200\n",
      "4/4 [==============================] - 0s 1ms/step - loss: 0.0506 - accuracy: 0.9821\n",
      "Epoch 45/200\n",
      "4/4 [==============================] - 0s 744us/step - loss: 0.0522 - accuracy: 0.9821\n",
      "Epoch 46/200\n",
      "4/4 [==============================] - 0s 1ms/step - loss: 0.0486 - accuracy: 0.9821\n",
      "Epoch 47/200\n",
      "4/4 [==============================] - 0s 868us/step - loss: 0.0507 - accuracy: 0.9821\n",
      "Epoch 48/200\n",
      "4/4 [==============================] - 0s 1ms/step - loss: 0.0476 - accuracy: 0.9821\n",
      "Epoch 49/200\n",
      "4/4 [==============================] - 0s 868us/step - loss: 0.0512 - accuracy: 0.9821\n",
      "Epoch 50/200\n",
      "4/4 [==============================] - 0s 992us/step - loss: 0.0501 - accuracy: 0.9732\n",
      "Epoch 51/200\n",
      "4/4 [==============================] - 0s 868us/step - loss: 0.0505 - accuracy: 0.9821\n",
      "Epoch 52/200\n",
      "4/4 [==============================] - 0s 868us/step - loss: 0.0600 - accuracy: 0.9732\n",
      "Epoch 53/200\n",
      "4/4 [==============================] - 0s 992us/step - loss: 0.0534 - accuracy: 0.9821\n",
      "Epoch 54/200\n",
      "4/4 [==============================] - 0s 992us/step - loss: 0.0570 - accuracy: 0.9821\n",
      "Epoch 55/200\n",
      "4/4 [==============================] - 0s 1ms/step - loss: 0.0440 - accuracy: 0.9821\n",
      "Epoch 56/200\n",
      "4/4 [==============================] - 0s 992us/step - loss: 0.0514 - accuracy: 0.9821\n",
      "Epoch 57/200\n",
      "4/4 [==============================] - 0s 992us/step - loss: 0.0476 - accuracy: 0.9821\n",
      "Epoch 58/200\n",
      "4/4 [==============================] - 0s 992us/step - loss: 0.0476 - accuracy: 0.9732\n",
      "Epoch 59/200\n",
      "4/4 [==============================] - 0s 1ms/step - loss: 0.0730 - accuracy: 0.9732\n",
      "Epoch 60/200\n",
      "4/4 [==============================] - 0s 992us/step - loss: 0.0833 - accuracy: 0.9375\n",
      "Epoch 61/200\n",
      "4/4 [==============================] - 0s 992us/step - loss: 0.0529 - accuracy: 0.9821\n",
      "Epoch 62/200\n",
      "4/4 [==============================] - 0s 1ms/step - loss: 0.0795 - accuracy: 0.9732\n",
      "Epoch 63/200\n",
      "4/4 [==============================] - 0s 992us/step - loss: 0.0571 - accuracy: 0.9911\n",
      "Epoch 64/200\n",
      "4/4 [==============================] - 0s 992us/step - loss: 0.0506 - accuracy: 0.9821\n",
      "Epoch 65/200\n",
      "4/4 [==============================] - 0s 992us/step - loss: 0.0423 - accuracy: 0.9821\n",
      "Epoch 66/200\n",
      "4/4 [==============================] - 0s 1ms/step - loss: 0.0413 - accuracy: 0.9911\n",
      "Epoch 67/200\n",
      "4/4 [==============================] - 0s 868us/step - loss: 0.0473 - accuracy: 0.9821\n",
      "Epoch 68/200\n",
      "4/4 [==============================] - 0s 992us/step - loss: 0.0407 - accuracy: 0.9821\n",
      "Epoch 69/200\n",
      "4/4 [==============================] - 0s 868us/step - loss: 0.0390 - accuracy: 0.9911\n",
      "Epoch 70/200\n",
      "4/4 [==============================] - 0s 1ms/step - loss: 0.0439 - accuracy: 0.9821\n",
      "Epoch 71/200\n",
      "4/4 [==============================] - 0s 868us/step - loss: 0.0436 - accuracy: 0.9821\n",
      "Epoch 72/200\n",
      "4/4 [==============================] - 0s 1ms/step - loss: 0.0561 - accuracy: 0.9821\n",
      "Epoch 73/200\n",
      "4/4 [==============================] - 0s 992us/step - loss: 0.0410 - accuracy: 0.9821\n",
      "Epoch 74/200\n",
      "4/4 [==============================] - 0s 868us/step - loss: 0.0524 - accuracy: 0.9732\n",
      "Epoch 75/200\n",
      "4/4 [==============================] - 0s 992us/step - loss: 0.0467 - accuracy: 0.9821\n",
      "Epoch 76/200\n",
      "4/4 [==============================] - 0s 868us/step - loss: 0.0356 - accuracy: 0.9821\n",
      "Epoch 77/200\n",
      "4/4 [==============================] - 0s 868us/step - loss: 0.0412 - accuracy: 0.9911\n",
      "Epoch 78/200\n",
      "4/4 [==============================] - 0s 868us/step - loss: 0.0405 - accuracy: 0.9821\n",
      "Epoch 79/200\n",
      "4/4 [==============================] - 0s 1ms/step - loss: 0.0645 - accuracy: 0.9732\n",
      "Epoch 80/200\n",
      "4/4 [==============================] - 0s 868us/step - loss: 0.0374 - accuracy: 0.9732\n",
      "Epoch 81/200\n",
      "4/4 [==============================] - 0s 1ms/step - loss: 0.0512 - accuracy: 0.9643\n",
      "Epoch 82/200\n",
      "4/4 [==============================] - 0s 1ms/step - loss: 0.0484 - accuracy: 0.9821\n",
      "Epoch 83/200\n"
     ]
    },
    {
     "name": "stdout",
     "output_type": "stream",
     "text": [
      "4/4 [==============================] - 0s 868us/step - loss: 0.0431 - accuracy: 0.9821\n",
      "Epoch 84/200\n",
      "4/4 [==============================] - 0s 1ms/step - loss: 0.0484 - accuracy: 0.9732\n",
      "Epoch 85/200\n",
      "4/4 [==============================] - 0s 992us/step - loss: 0.0633 - accuracy: 0.9732\n",
      "Epoch 86/200\n",
      "4/4 [==============================] - 0s 868us/step - loss: 0.0596 - accuracy: 0.9732\n",
      "Epoch 87/200\n",
      "4/4 [==============================] - 0s 992us/step - loss: 0.0653 - accuracy: 0.9643\n",
      "Epoch 88/200\n",
      "4/4 [==============================] - 0s 1ms/step - loss: 0.0366 - accuracy: 0.9911\n",
      "Epoch 89/200\n",
      "4/4 [==============================] - 0s 867us/step - loss: 0.0346 - accuracy: 0.9821\n",
      "Epoch 90/200\n",
      "4/4 [==============================] - 0s 1ms/step - loss: 0.0453 - accuracy: 0.9821\n",
      "Epoch 91/200\n",
      "4/4 [==============================] - 0s 868us/step - loss: 0.0353 - accuracy: 0.9911\n",
      "Epoch 92/200\n",
      "4/4 [==============================] - 0s 1ms/step - loss: 0.0399 - accuracy: 0.9732\n",
      "Epoch 93/200\n",
      "4/4 [==============================] - 0s 868us/step - loss: 0.0426 - accuracy: 0.9732\n",
      "Epoch 94/200\n",
      "4/4 [==============================] - 0s 868us/step - loss: 0.0364 - accuracy: 0.9821\n",
      "Epoch 95/200\n",
      "4/4 [==============================] - 0s 868us/step - loss: 0.0455 - accuracy: 0.9821\n",
      "Epoch 96/200\n",
      "4/4 [==============================] - 0s 743us/step - loss: 0.0340 - accuracy: 0.9911\n",
      "Epoch 97/200\n",
      "4/4 [==============================] - 0s 1ms/step - loss: 0.0377 - accuracy: 0.9821\n",
      "Epoch 98/200\n",
      "4/4 [==============================] - 0s 868us/step - loss: 0.0378 - accuracy: 0.9821\n",
      "Epoch 99/200\n",
      "4/4 [==============================] - ETA: 0s - loss: 0.0158 - accuracy: 1.00 - 0s 992us/step - loss: 0.0402 - accuracy: 0.9821\n",
      "Epoch 100/200\n",
      "4/4 [==============================] - 0s 744us/step - loss: 0.0802 - accuracy: 0.9554\n",
      "Epoch 101/200\n",
      "4/4 [==============================] - 0s 868us/step - loss: 0.0898 - accuracy: 0.9732\n",
      "Epoch 102/200\n",
      "4/4 [==============================] - 0s 868us/step - loss: 0.0857 - accuracy: 0.9732\n",
      "Epoch 103/200\n",
      "4/4 [==============================] - 0s 868us/step - loss: 0.0458 - accuracy: 0.9821\n",
      "Epoch 104/200\n",
      "4/4 [==============================] - 0s 1ms/step - loss: 0.0668 - accuracy: 0.9732\n",
      "Epoch 105/200\n",
      "4/4 [==============================] - 0s 867us/step - loss: 0.0351 - accuracy: 0.9911\n",
      "Epoch 106/200\n",
      "4/4 [==============================] - 0s 992us/step - loss: 0.0488 - accuracy: 0.9821\n",
      "Epoch 107/200\n",
      "4/4 [==============================] - 0s 868us/step - loss: 0.0711 - accuracy: 0.9643\n",
      "Epoch 108/200\n",
      "4/4 [==============================] - 0s 992us/step - loss: 0.0617 - accuracy: 0.9643\n",
      "Epoch 109/200\n",
      "4/4 [==============================] - 0s 868us/step - loss: 0.0334 - accuracy: 0.9911\n",
      "Epoch 110/200\n",
      "4/4 [==============================] - 0s 744us/step - loss: 0.0529 - accuracy: 0.9821\n",
      "Epoch 111/200\n",
      "4/4 [==============================] - 0s 992us/step - loss: 0.0371 - accuracy: 0.9821\n",
      "Epoch 112/200\n",
      "4/4 [==============================] - 0s 868us/step - loss: 0.0432 - accuracy: 0.9821\n",
      "Epoch 113/200\n",
      "4/4 [==============================] - 0s 1ms/step - loss: 0.0366 - accuracy: 0.9821\n",
      "Epoch 114/200\n",
      "4/4 [==============================] - 0s 868us/step - loss: 0.0467 - accuracy: 0.9732\n",
      "Epoch 115/200\n",
      "4/4 [==============================] - 0s 1ms/step - loss: 0.0661 - accuracy: 0.9732\n",
      "Epoch 116/200\n",
      "4/4 [==============================] - 0s 868us/step - loss: 0.0397 - accuracy: 0.9732\n",
      "Epoch 117/200\n",
      "4/4 [==============================] - 0s 992us/step - loss: 0.0651 - accuracy: 0.9554\n",
      "Epoch 118/200\n",
      "4/4 [==============================] - 0s 992us/step - loss: 0.0389 - accuracy: 0.9821\n",
      "Epoch 119/200\n",
      "4/4 [==============================] - 0s 992us/step - loss: 0.0369 - accuracy: 0.9821\n",
      "Epoch 120/200\n",
      "4/4 [==============================] - 0s 1ms/step - loss: 0.0331 - accuracy: 0.9821\n",
      "Epoch 121/200\n",
      "4/4 [==============================] - 0s 744us/step - loss: 0.0359 - accuracy: 0.9821\n",
      "Epoch 122/200\n",
      "4/4 [==============================] - 0s 1ms/step - loss: 0.0317 - accuracy: 0.9911\n",
      "Epoch 123/200\n",
      "4/4 [==============================] - 0s 868us/step - loss: 0.0336 - accuracy: 0.9911\n",
      "Epoch 124/200\n",
      "4/4 [==============================] - 0s 1ms/step - loss: 0.0332 - accuracy: 0.9911\n",
      "Epoch 125/200\n",
      "4/4 [==============================] - 0s 1ms/step - loss: 0.0317 - accuracy: 0.9911\n",
      "Epoch 126/200\n",
      "4/4 [==============================] - 0s 2ms/step - loss: 0.0333 - accuracy: 0.9821\n",
      "Epoch 127/200\n",
      "4/4 [==============================] - 0s 1ms/step - loss: 0.0316 - accuracy: 0.9821\n",
      "Epoch 128/200\n",
      "4/4 [==============================] - 0s 1ms/step - loss: 0.0337 - accuracy: 0.9821\n",
      "Epoch 129/200\n",
      "4/4 [==============================] - 0s 1ms/step - loss: 0.0382 - accuracy: 0.9821\n",
      "Epoch 130/200\n",
      "4/4 [==============================] - 0s 1ms/step - loss: 0.0444 - accuracy: 0.9821\n",
      "Epoch 131/200\n",
      "4/4 [==============================] - 0s 1ms/step - loss: 0.0637 - accuracy: 0.9821\n",
      "Epoch 132/200\n",
      "4/4 [==============================] - 0s 2ms/step - loss: 0.0494 - accuracy: 0.9911\n",
      "Epoch 133/200\n",
      "4/4 [==============================] - 0s 992us/step - loss: 0.0435 - accuracy: 0.9732\n",
      "Epoch 134/200\n",
      "4/4 [==============================] - 0s 1ms/step - loss: 0.0323 - accuracy: 0.9821\n",
      "Epoch 135/200\n",
      "4/4 [==============================] - ETA: 0s - loss: 0.0109 - accuracy: 1.00 - 0s 992us/step - loss: 0.0307 - accuracy: 0.9911\n",
      "Epoch 136/200\n",
      "4/4 [==============================] - 0s 1ms/step - loss: 0.0337 - accuracy: 0.9821\n",
      "Epoch 137/200\n",
      "4/4 [==============================] - 0s 2ms/step - loss: 0.0321 - accuracy: 0.9911\n",
      "Epoch 138/200\n",
      "4/4 [==============================] - 0s 992us/step - loss: 0.0305 - accuracy: 0.9911\n",
      "Epoch 139/200\n",
      "4/4 [==============================] - 0s 2ms/step - loss: 0.0322 - accuracy: 0.9911\n",
      "Epoch 140/200\n",
      "4/4 [==============================] - 0s 1ms/step - loss: 0.0357 - accuracy: 0.9821\n",
      "Epoch 141/200\n",
      "4/4 [==============================] - 0s 2ms/step - loss: 0.0328 - accuracy: 0.9911\n",
      "Epoch 142/200\n",
      "4/4 [==============================] - 0s 992us/step - loss: 0.0363 - accuracy: 0.9911\n",
      "Epoch 143/200\n",
      "4/4 [==============================] - 0s 1ms/step - loss: 0.0331 - accuracy: 0.9821\n",
      "Epoch 144/200\n",
      "4/4 [==============================] - 0s 2ms/step - loss: 0.0326 - accuracy: 0.9821\n",
      "Epoch 145/200\n",
      "4/4 [==============================] - 0s 1ms/step - loss: 0.0457 - accuracy: 0.9821\n",
      "Epoch 146/200\n",
      "4/4 [==============================] - 0s 1ms/step - loss: 0.0652 - accuracy: 0.9643\n",
      "Epoch 147/200\n",
      "4/4 [==============================] - 0s 992us/step - loss: 0.0551 - accuracy: 0.9732\n",
      "Epoch 148/200\n",
      "4/4 [==============================] - 0s 1ms/step - loss: 0.0329 - accuracy: 0.9821\n",
      "Epoch 149/200\n",
      "4/4 [==============================] - 0s 1ms/step - loss: 0.0320 - accuracy: 0.9821\n",
      "Epoch 150/200\n",
      "4/4 [==============================] - 0s 1ms/step - loss: 0.0333 - accuracy: 0.9821\n",
      "Epoch 151/200\n",
      "4/4 [==============================] - ETA: 0s - loss: 0.0538 - accuracy: 0.96 - 0s 1ms/step - loss: 0.0324 - accuracy: 0.9821\n",
      "Epoch 152/200\n",
      "4/4 [==============================] - 0s 992us/step - loss: 0.0329 - accuracy: 0.9911\n",
      "Epoch 153/200\n",
      "4/4 [==============================] - 0s 1ms/step - loss: 0.0347 - accuracy: 0.9821\n",
      "Epoch 154/200\n",
      "4/4 [==============================] - ETA: 0s - loss: 0.0369 - accuracy: 0.96 - 0s 2ms/step - loss: 0.0330 - accuracy: 0.9821\n",
      "Epoch 155/200\n",
      "4/4 [==============================] - 0s 1ms/step - loss: 0.0311 - accuracy: 0.9821\n",
      "Epoch 156/200\n",
      "4/4 [==============================] - 0s 1ms/step - loss: 0.0330 - accuracy: 0.9821\n",
      "Epoch 157/200\n",
      "4/4 [==============================] - 0s 868us/step - loss: 0.0393 - accuracy: 0.9821\n",
      "Epoch 158/200\n",
      "4/4 [==============================] - 0s 1ms/step - loss: 0.0354 - accuracy: 0.9821\n",
      "Epoch 159/200\n",
      "4/4 [==============================] - 0s 868us/step - loss: 0.0319 - accuracy: 0.9911\n",
      "Epoch 160/200\n",
      "4/4 [==============================] - 0s 1ms/step - loss: 0.0483 - accuracy: 0.9821\n",
      "Epoch 161/200\n",
      "4/4 [==============================] - 0s 992us/step - loss: 0.0666 - accuracy: 0.9643\n",
      "Epoch 162/200\n",
      "4/4 [==============================] - 0s 1ms/step - loss: 0.0352 - accuracy: 0.9732\n",
      "Epoch 163/200\n"
     ]
    },
    {
     "name": "stdout",
     "output_type": "stream",
     "text": [
      "4/4 [==============================] - 0s 992us/step - loss: 0.0752 - accuracy: 0.9732\n",
      "Epoch 164/200\n",
      "4/4 [==============================] - 0s 2ms/step - loss: 0.0491 - accuracy: 0.9732\n",
      "Epoch 165/200\n",
      "4/4 [==============================] - 0s 1ms/step - loss: 0.0284 - accuracy: 0.9821\n",
      "Epoch 166/200\n",
      "4/4 [==============================] - 0s 1ms/step - loss: 0.0403 - accuracy: 0.9821\n",
      "Epoch 167/200\n",
      "4/4 [==============================] - 0s 992us/step - loss: 0.0306 - accuracy: 0.9821\n",
      "Epoch 168/200\n",
      "4/4 [==============================] - 0s 992us/step - loss: 0.0400 - accuracy: 0.9821\n",
      "Epoch 169/200\n",
      "4/4 [==============================] - 0s 1ms/step - loss: 0.0228 - accuracy: 0.9911\n",
      "Epoch 170/200\n",
      "4/4 [==============================] - 0s 992us/step - loss: 0.0659 - accuracy: 0.9643\n",
      "Epoch 171/200\n",
      "4/4 [==============================] - 0s 1ms/step - loss: 0.0859 - accuracy: 0.9554\n",
      "Epoch 172/200\n",
      "4/4 [==============================] - 0s 868us/step - loss: 0.0420 - accuracy: 0.9821\n",
      "Epoch 173/200\n",
      "4/4 [==============================] - 0s 1ms/step - loss: 0.0858 - accuracy: 0.9732\n",
      "Epoch 174/200\n",
      "4/4 [==============================] - 0s 868us/step - loss: 0.0629 - accuracy: 0.9643\n",
      "Epoch 175/200\n",
      "4/4 [==============================] - 0s 1ms/step - loss: 0.0652 - accuracy: 0.9732\n",
      "Epoch 176/200\n",
      "4/4 [==============================] - 0s 868us/step - loss: 0.0565 - accuracy: 0.9554\n",
      "Epoch 177/200\n",
      "4/4 [==============================] - 0s 992us/step - loss: 0.0238 - accuracy: 0.9821\n",
      "Epoch 178/200\n",
      "4/4 [==============================] - 0s 868us/step - loss: 0.0844 - accuracy: 0.9643\n",
      "Epoch 179/200\n",
      "4/4 [==============================] - 0s 868us/step - loss: 0.0353 - accuracy: 1.0000\n",
      "Epoch 180/200\n",
      "4/4 [==============================] - 0s 992us/step - loss: 0.0269 - accuracy: 0.9821\n",
      "Epoch 181/200\n",
      "4/4 [==============================] - 0s 744us/step - loss: 0.0496 - accuracy: 0.9821\n",
      "Epoch 182/200\n",
      "4/4 [==============================] - 0s 1ms/step - loss: 0.0407 - accuracy: 0.9821\n",
      "Epoch 183/200\n",
      "4/4 [==============================] - 0s 868us/step - loss: 0.0285 - accuracy: 0.9911\n",
      "Epoch 184/200\n",
      "4/4 [==============================] - 0s 1ms/step - loss: 0.0321 - accuracy: 0.9821\n",
      "Epoch 185/200\n",
      "4/4 [==============================] - 0s 868us/step - loss: 0.0291 - accuracy: 0.9911\n",
      "Epoch 186/200\n",
      "4/4 [==============================] - 0s 1ms/step - loss: 0.0309 - accuracy: 0.9821\n",
      "Epoch 187/200\n",
      "4/4 [==============================] - 0s 992us/step - loss: 0.0293 - accuracy: 0.9911\n",
      "Epoch 188/200\n",
      "4/4 [==============================] - 0s 867us/step - loss: 0.0371 - accuracy: 0.9821\n",
      "Epoch 189/200\n",
      "4/4 [==============================] - 0s 868us/step - loss: 0.0335 - accuracy: 0.9821\n",
      "Epoch 190/200\n",
      "4/4 [==============================] - 0s 744us/step - loss: 0.0279 - accuracy: 0.9911\n",
      "Epoch 191/200\n",
      "4/4 [==============================] - 0s 1ms/step - loss: 0.0509 - accuracy: 0.9821\n",
      "Epoch 192/200\n",
      "4/4 [==============================] - 0s 744us/step - loss: 0.0434 - accuracy: 0.9911\n",
      "Epoch 193/200\n",
      "4/4 [==============================] - 0s 992us/step - loss: 0.0274 - accuracy: 0.9911\n",
      "Epoch 194/200\n",
      "4/4 [==============================] - 0s 868us/step - loss: 0.0356 - accuracy: 0.9821\n",
      "Epoch 195/200\n",
      "4/4 [==============================] - 0s 744us/step - loss: 0.0362 - accuracy: 0.9911\n",
      "Epoch 196/200\n",
      "4/4 [==============================] - 0s 992us/step - loss: 0.0289 - accuracy: 0.9911\n",
      "Epoch 197/200\n",
      "4/4 [==============================] - 0s 868us/step - loss: 0.0369 - accuracy: 0.9821\n",
      "Epoch 198/200\n",
      "4/4 [==============================] - 0s 992us/step - loss: 0.0287 - accuracy: 0.9911\n",
      "Epoch 199/200\n",
      "4/4 [==============================] - 0s 868us/step - loss: 0.0346 - accuracy: 0.9821\n",
      "Epoch 200/200\n",
      "4/4 [==============================] - 0s 992us/step - loss: 0.0361 - accuracy: 0.9821\n"
     ]
    },
    {
     "data": {
      "text/plain": [
       "<tensorflow.python.keras.callbacks.History at 0x26fb2bd8400>"
      ]
     },
     "execution_count": 18,
     "metadata": {},
     "output_type": "execute_result"
    }
   ],
   "source": [
    "import tensorflow as tf\n",
    "# Set random seed\n",
    "tf.random.set_seed(42)\n",
    "\n",
    "# Create a model\n",
    "model_1 = tf.keras.Sequential([\n",
    "    tf.keras.layers.Dense(10, activation=tf.keras.activations.relu),\n",
    "    tf.keras.layers.Dense(10, activation=tf.keras.activations.relu),\n",
    "    tf.keras.layers.Dense(3, activation=tf.keras.activations.softmax)\n",
    "])\n",
    "\n",
    "# Compile the model\n",
    "model_1.compile(loss=tf.keras.losses.sparse_categorical_crossentropy,\n",
    "               optimizer=tf.keras.optimizers.Adam(lr=0.01),\n",
    "               metrics=[\"accuracy\"])\n",
    "\n",
    "# Fit the model\n",
    "model_1.fit(X_train, y_train, epochs=200, verbose=1)\n",
    "                \n",
    "                "
   ]
  },
  {
   "cell_type": "markdown",
   "metadata": {
    "executionInfo": {
     "elapsed": 10254,
     "status": "ok",
     "timestamp": 1605442294367,
     "user": {
      "displayName": "Mansib Mursalin",
      "photoUrl": "",
      "userId": "13607802869223974896"
     },
     "user_tz": -360
    },
    "id": "fOTO7zqEzvjO"
   },
   "source": [
    "## Making Predictions"
   ]
  },
  {
   "cell_type": "code",
   "execution_count": 19,
   "metadata": {
    "colab": {
     "base_uri": "https://localhost:8080/"
    },
    "executionInfo": {
     "elapsed": 10242,
     "status": "ok",
     "timestamp": 1605442294368,
     "user": {
      "displayName": "Mansib Mursalin",
      "photoUrl": "",
      "userId": "13607802869223974896"
     },
     "user_tz": -360
    },
    "id": "yJ5BruPazyVo",
    "outputId": "d039557c-745b-45f3-9bac-cecdc03e2d13"
   },
   "outputs": [
    {
     "name": "stdout",
     "output_type": "stream",
     "text": [
      "(1, 4)\n"
     ]
    }
   ],
   "source": [
    "X_new = np.array([[5,2.9,1,0.2]])\n",
    "print(X_new.shape)"
   ]
  },
  {
   "cell_type": "code",
   "execution_count": 20,
   "metadata": {
    "colab": {
     "base_uri": "https://localhost:8080/"
    },
    "executionInfo": {
     "elapsed": 1320,
     "status": "ok",
     "timestamp": 1605442429996,
     "user": {
      "displayName": "Mansib Mursalin",
      "photoUrl": "",
      "userId": "13607802869223974896"
     },
     "user_tz": -360
    },
    "id": "aLn-Ctni0WKr",
    "outputId": "b0d6ca37-0089-4942-c248-d1d62e053e40"
   },
   "outputs": [
    {
     "name": "stdout",
     "output_type": "stream",
     "text": [
      "setosa\n"
     ]
    }
   ],
   "source": [
    "prediction = model_1.predict(X_new)\n",
    "preds_float = prediction.round()\n",
    "preds_int = preds_float. astype(int)\n",
    "print(iris_dataset['target_names'][np.argmax(preds_int)])\n"
   ]
  },
  {
   "cell_type": "markdown",
   "metadata": {},
   "source": [
    "## Evaluating the nodel"
   ]
  },
  {
   "cell_type": "code",
   "execution_count": 21,
   "metadata": {
    "colab": {
     "base_uri": "https://localhost:8080/"
    },
    "executionInfo": {
     "elapsed": 1755,
     "status": "ok",
     "timestamp": 1605442576051,
     "user": {
      "displayName": "Mansib Mursalin",
      "photoUrl": "",
      "userId": "13607802869223974896"
     },
     "user_tz": -360
    },
    "id": "qOnJ5bnM1K10",
    "outputId": "baaa00c1-9dc7-493a-81f8-c71b657b63ae"
   },
   "outputs": [
    {
     "name": "stdout",
     "output_type": "stream",
     "text": [
      "[[1.22363343e-11 1.54158477e-06 9.99998450e-01]\n",
      " [1.76309113e-04 9.99543965e-01 2.79677188e-04]\n",
      " [9.99952078e-01 4.78767943e-05 1.55763098e-12]\n",
      " [7.06125644e-11 4.13370508e-05 9.99958634e-01]\n",
      " [9.99785960e-01 2.14023603e-04 9.51575138e-11]\n",
      " [1.07876016e-13 1.51106807e-08 1.00000000e+00]\n",
      " [9.99822199e-01 1.77829395e-04 5.72102504e-11]\n",
      " [2.06384848e-05 9.99744356e-01 2.35041996e-04]\n",
      " [1.07919896e-05 9.99529123e-01 4.60020616e-04]\n",
      " [2.07623481e-04 9.99673605e-01 1.18798082e-04]\n",
      " [1.13314593e-08 5.43578179e-04 9.99456465e-01]\n",
      " [5.20457834e-05 9.99778211e-01 1.69679653e-04]\n",
      " [4.74076442e-05 9.98482883e-01 1.46977918e-03]\n",
      " [1.28058564e-05 9.99311566e-01 6.75727380e-04]\n",
      " [3.03951856e-05 9.94308174e-01 5.66147594e-03]\n",
      " [9.99858499e-01 1.41530065e-04 3.05607067e-11]\n",
      " [3.02470580e-05 9.96774256e-01 3.19538731e-03]\n",
      " [8.93393953e-05 9.92775083e-01 7.13551277e-03]\n",
      " [9.99522924e-01 4.77056718e-04 6.42090048e-10]\n",
      " [9.99909520e-01 9.04432454e-05 8.93500291e-12]\n",
      " [5.85927706e-09 2.85466493e-04 9.99714553e-01]\n",
      " [6.53010356e-05 9.71006513e-01 2.89282165e-02]\n",
      " [9.99614835e-01 3.85123480e-04 4.30773306e-10]\n",
      " [9.99407649e-01 5.92335535e-04 1.46902590e-09]\n",
      " [4.22112589e-06 3.91326040e-01 6.08669698e-01]\n",
      " [9.99861836e-01 1.38087940e-04 2.85625742e-11]\n",
      " [9.99765217e-01 2.34782987e-04 1.22705041e-10]\n",
      " [1.12965936e-04 9.99733388e-01 1.53571978e-04]\n",
      " [2.25330540e-03 9.97586608e-01 1.60039170e-04]\n",
      " [9.99662519e-01 3.37497098e-04 2.65624661e-10]\n",
      " [3.74181894e-08 3.61012854e-03 9.96389806e-01]\n",
      " [8.42433947e-05 8.90108526e-01 1.09807201e-01]\n",
      " [9.99838471e-01 1.61528253e-04 4.39339086e-11]\n",
      " [3.88499484e-06 2.43702874e-01 7.56293237e-01]\n",
      " [7.20738833e-12 2.01819853e-06 9.99997973e-01]\n",
      " [1.60946642e-04 9.98514593e-01 1.32446655e-03]\n",
      " [9.99894857e-01 1.05178733e-04 1.35242694e-11]\n",
      " [4.09901816e-07 2.10487805e-02 9.78950799e-01]]\n"
     ]
    }
   ],
   "source": [
    "y_pred=model_1.predict(X_test)\n",
    "print(y_pred)"
   ]
  },
  {
   "cell_type": "code",
   "execution_count": 22,
   "metadata": {},
   "outputs": [
    {
     "name": "stdout",
     "output_type": "stream",
     "text": [
      "2/2 [==============================] - 0s 993us/step - loss: 0.1267 - accuracy: 0.9737\n"
     ]
    },
    {
     "data": {
      "text/plain": [
       "[0.126695916056633, 0.9736841917037964]"
      ]
     },
     "execution_count": 22,
     "metadata": {},
     "output_type": "execute_result"
    }
   ],
   "source": [
    "model_1.evaluate(X_test, y_test)"
   ]
  },
  {
   "cell_type": "code",
   "execution_count": null,
   "metadata": {},
   "outputs": [],
   "source": []
  }
 ],
 "metadata": {
  "colab": {
   "authorship_tag": "ABX9TyP5vuO3J7MhDdDNOBnv5eD4",
   "collapsed_sections": [],
   "mount_file_id": "1kFcywGSBZF98SiPAsuhZKG8_7IJbVEF1",
   "name": "Classifying Iris Species.ipynb",
   "provenance": [],
   "toc_visible": true
  },
  "kernelspec": {
   "display_name": "Python 3",
   "language": "python",
   "name": "python3"
  },
  "language_info": {
   "codemirror_mode": {
    "name": "ipython",
    "version": 3
   },
   "file_extension": ".py",
   "mimetype": "text/x-python",
   "name": "python",
   "nbconvert_exporter": "python",
   "pygments_lexer": "ipython3",
   "version": "3.8.5"
  }
 },
 "nbformat": 4,
 "nbformat_minor": 1
}
